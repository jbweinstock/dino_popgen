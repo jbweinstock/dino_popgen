{
 "cells": [
  {
   "cell_type": "markdown",
   "metadata": {},
   "source": [
    "# Extracting sample info from the cutadapt log"
   ]
  },
  {
   "cell_type": "markdown",
   "metadata": {},
   "source": [
    "Set up packages"
   ]
  },
  {
   "cell_type": "code",
   "execution_count": 23,
   "metadata": {},
   "outputs": [],
   "source": [
    "import os\n",
    "import re\n",
    "import statistics"
   ]
  },
  {
   "cell_type": "markdown",
   "metadata": {},
   "source": [
    "Set up paths and print out to check"
   ]
  },
  {
   "cell_type": "code",
   "execution_count": 25,
   "metadata": {},
   "outputs": [
    {
     "name": "stdout",
     "output_type": "stream",
     "text": [
      "Noteboook Path: /vortexfs1/omics/env-bio/collaboration/dino_popgen/jupyter-notebooks/trimlog_ext.ipynb\n",
      "Log Path: /vortexfs1/omics/env-bio/collaboration/dino_popgen/logs/seq_trim_1387554.log\n",
      "Log Rerun Path: /vortexfs1/omics/env-bio/collaboration/dino_popgen/logs/seq_trim_rerun.log\n"
     ]
    }
   ],
   "source": [
    "notebook_path = os.path.abspath(\"trimlog_ext.ipynb\")\n",
    "print(\"Noteboook Path:\", notebook_path)\n",
    "log_path = \"/vortexfs1/omics/env-bio/collaboration/dino_popgen/logs/seq_trim_1387554.log\"\n",
    "print(\"Log Path:\", log_path)\n",
    "log_rerun_path = \"/vortexfs1/omics/env-bio/collaboration/dino_popgen/logs/seq_trim_rerun.log\"\n",
    "print(\"Log Rerun Path:\", log_rerun_path)"
   ]
  },
  {
   "cell_type": "markdown",
   "metadata": {},
   "source": [
    "Read in logfiles as lists, every line is a list item"
   ]
  },
  {
   "cell_type": "code",
   "execution_count": 30,
   "metadata": {},
   "outputs": [],
   "source": [
    "with open(log_path) as f:\n",
    "    logfile = f.readlines() #read lines from logfile into a list\n",
    "    \n",
    "with open(log_rerun_path) as f: #rerun of SRR7235991\n",
    "    logrerunfile = f.readlines()"
   ]
  },
  {
   "cell_type": "code",
   "execution_count": 31,
   "metadata": {},
   "outputs": [
    {
     "name": "stdout",
     "output_type": "stream",
     "text": [
      "<class 'list'>\n"
     ]
    },
    {
     "data": {
      "text/plain": [
       "1016"
      ]
     },
     "execution_count": 31,
     "metadata": {},
     "output_type": "execute_result"
    }
   ],
   "source": [
    "#check type and length of the logfile item\n",
    "print(type(logfile))\n",
    "len(logfile)\n",
    "#print(logfile)"
   ]
  },
  {
   "cell_type": "markdown",
   "metadata": {},
   "source": [
    "Run through lines in logfile and extract the total number of pairs written as well as percent of total pairs written; print out relevant statistics:"
   ]
  },
  {
   "cell_type": "code",
   "execution_count": 29,
   "metadata": {},
   "outputs": [
    {
     "name": "stdout",
     "output_type": "stream",
     "text": [
      "Average percent of pairs written: 98.69787234042553\n",
      "Maximum percent of pairs written: 99.3\n",
      "Minimum percent of pairs written: 94.9\n",
      "Max pairs written: 39652162.0\n",
      "Min pairs written: 10130084.0\n"
     ]
    }
   ],
   "source": [
    "perc_written = []\n",
    "pairs_written = []\n",
    "for line in logfile:\n",
    "    if line.startswith(\"Pairs written\"):\n",
    "        #print(line) #check which line is being pulled\n",
    "        index = logfile.index(line) #index of each line that starts with \"Pairs written\"\n",
    "        line = line.replace(',', '') #remove commas from large numbers\n",
    "        s = [float(s) for s in re.findall(r'-?\\d+\\.?\\d*', line)] #find all numbers in line as floats\n",
    "        perc_written.append(s[1]) #append the percent written to a list of all percents written\n",
    "        pairs_written.append(s[0]) #append pairs written to a list of all pairs written\n",
    "for line in logrerunfile:\n",
    "    if line.startswith(\"Pairs written\"):\n",
    "        #print(line) #check which line is being pulled\n",
    "        index = logrerunfile.index(line) #index of each line that starts with \"Pairs written\"\n",
    "        line = line.replace(',', '') #remove commas from large numbers\n",
    "        s = [float(s) for s in re.findall(r'-?\\d+\\.?\\d*', line)] #find all numbers in line as floats\n",
    "        perc_written.append(s[1]) #append the percent written to a list of all percents written\n",
    "        pairs_written.append(s[0]) #append pairs written to a list of all pairs written\n",
    "        \n",
    "print(\"Average percent of pairs written:\", mean(perc_written))\n",
    "print(\"Maximum percent of pairs written:\", max(perc_written))\n",
    "print(\"Minimum percent of pairs written:\", min(perc_written))\n",
    "print(\"Max pairs written:\", max(pairs_written))\n",
    "print(\"Min pairs written:\", min(pairs_written))"
   ]
  }
 ],
 "metadata": {
  "kernelspec": {
   "display_name": "Python 3",
   "language": "python",
   "name": "python3"
  },
  "language_info": {
   "codemirror_mode": {
    "name": "ipython",
    "version": 3
   },
   "file_extension": ".py",
   "mimetype": "text/x-python",
   "name": "python",
   "nbconvert_exporter": "python",
   "pygments_lexer": "ipython3",
   "version": "3.6.12"
  }
 },
 "nbformat": 4,
 "nbformat_minor": 4
}
