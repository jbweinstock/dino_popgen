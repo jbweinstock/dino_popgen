{
 "cells": [
  {
   "cell_type": "markdown",
   "metadata": {},
   "source": [
    "# Visualization of raxml-ng output\n",
    "1. remove filepaths from samplenames in the treefile (bash)\n",
    "2. replace NCBI ID with sample ID (python)\n",
    "3. visualize - use itol (this method indicated in paper github)"
   ]
  },
  {
   "cell_type": "code",
   "execution_count": null,
   "metadata": {},
   "outputs": [],
   "source": [
    "# ran following code from the phylogeny/raxml_output folder in bash\n",
    "# remove the long filepaths from sample names in the treefile\n",
    "'''\n",
    "#remove the filepaths and extensions from sample names \n",
    "sed 's/.nodups.bam//g' raxml_output.raxml.support | sed 's|/vortexfs1/omics/env-bio/collaboration/dino_popgen/data/align-data/||g' > raxml_rename.bestTree\n",
    "rm raxml_cp.bestTree #check output and delete copy\n",
    "cut -d , -f 2,22 ../../supp_table_subset.csv | tr -d '\"' > SRR_SampleID.csv #cut the SRR and SID fields from supplementary table, remove commas and create a csv\n",
    "'''"
   ]
  },
  {
   "cell_type": "code",
   "execution_count": 2,
   "metadata": {},
   "outputs": [],
   "source": [
    "# import packages\n",
    "import pandas as pd"
   ]
  },
  {
   "cell_type": "code",
   "execution_count": 12,
   "metadata": {},
   "outputs": [
    {
     "data": {
      "text/html": [
       "<div>\n",
       "<style scoped>\n",
       "    .dataframe tbody tr th:only-of-type {\n",
       "        vertical-align: middle;\n",
       "    }\n",
       "\n",
       "    .dataframe tbody tr th {\n",
       "        vertical-align: top;\n",
       "    }\n",
       "\n",
       "    .dataframe thead th {\n",
       "        text-align: right;\n",
       "    }\n",
       "</style>\n",
       "<table border=\"1\" class=\"dataframe\">\n",
       "  <thead>\n",
       "    <tr style=\"text-align: right;\">\n",
       "      <th></th>\n",
       "      <th>VCF_ID</th>\n",
       "      <th>NCBI_SRA_Accesion</th>\n",
       "    </tr>\n",
       "  </thead>\n",
       "  <tbody>\n",
       "    <tr>\n",
       "      <th>0</th>\n",
       "      <td>BP_BA_1667</td>\n",
       "      <td>SRR7236023</td>\n",
       "    </tr>\n",
       "    <tr>\n",
       "      <th>1</th>\n",
       "      <td>BP_VI_1839</td>\n",
       "      <td>SRR7236038</td>\n",
       "    </tr>\n",
       "    <tr>\n",
       "      <th>2</th>\n",
       "      <td>C_BE_13797</td>\n",
       "      <td>SRR7236034</td>\n",
       "    </tr>\n",
       "    <tr>\n",
       "      <th>3</th>\n",
       "      <td>C_BE_13827</td>\n",
       "      <td>SRR7236033</td>\n",
       "    </tr>\n",
       "    <tr>\n",
       "      <th>4</th>\n",
       "      <td>C_BE_13837</td>\n",
       "      <td>SRR7236028</td>\n",
       "    </tr>\n",
       "  </tbody>\n",
       "</table>\n",
       "</div>"
      ],
      "text/plain": [
       "       VCF_ID NCBI_SRA_Accesion\n",
       "0  BP_BA_1667        SRR7236023\n",
       "1  BP_VI_1839        SRR7236038\n",
       "2  C_BE_13797        SRR7236034\n",
       "3  C_BE_13827        SRR7236033\n",
       "4  C_BE_13837        SRR7236028"
      ]
     },
     "execution_count": 12,
     "metadata": {},
     "output_type": "execute_result"
    }
   ],
   "source": [
    "# read in csv \n",
    "SampleID = pd.read_csv(\"../output/phylogeny/raxml_output/SRR_SampleID.csv\")\n",
    "SampleID.head("
   ]
  },
  {
   "cell_type": "code",
   "execution_count": 27,
   "metadata": {},
   "outputs": [
    {
     "name": "stdout",
     "output_type": "stream",
     "text": [
      "(SRR12363335:0.059748,(((SRR7236027:0.052451,SRR7235981:0.078120)86:0.033899,SRR12363334:0.052881)77:0.023963,SRR12363328:0.056375)33:0.016625,((SRR12363323:0.052524,SRR12363326:0.062028)30:0.017061,((((((SRR12363325:0.092953,((SRR7236038:0.130374,SRR7235977:0.109234)44:0.019888,SRR7236000:0.146154)76:0.020960)11:0.012250,(SRR7235978:0.130741,SRR7235997:0.077172)7:0.015050)4:0.005653,(((SRR7236023:0.084548,(SRR7236011:0.095304,SRR7236012:0.091927)38:0.015280)12:0.010674,(SRR7235980:0.099824,SRR12363332:0.065695)40:0.016578)17:0.009907,(((SRR7235979:0.134440,SRR7236015:0.112157)38:0.026948,((SRR7236013:0.121347,SRR7236016:0.128085)44:0.020461,SRR7235987:0.133389)18:0.011566)4:0.006892,(SRR7236001:0.114676,(SRR7235984:0.103442,SRR7235988:0.099421)47:0.021674)4:0.009687)8:0.006816)9:0.007419)8:0.007309,(((SRR7235990:0.120240,SRR7236024:0.094289)6:0.019901,(SRR7235993:0.097915,SRR7236006:0.093705)34:0.022498)4:0.011755,(((SRR7236028:0.121444,SRR7236031:0.109826)13:0.021996,(SRR7236033:0.061182,SRR7236034:0.082326)31:0.020811)0:0.007817,((SRR7235996:0.107325,SRR7236030:0.112711)6:0.018251,((SRR7235998:0.097814,SRR7236037:0.077717)33:0.024736,(((SRR7235989:0.127931,SRR7236029:0.107973)14:0.018085,(SRR7235999:0.110757,SRR7236022:0.116686)73:0.030582)7:0.008141,(SRR7235994:0.090429,SRR7235991:0.100313)36:0.017989)4:0.009553)1:0.008989)2:0.005952)0:0.006900)0:0.007422)3:0.009798,(SRR7236035:0.086416,SRR12363329:0.091299)3:0.012949)18:0.013578,SRR12363333:0.056265)14:0.013724)26:0.012255):0.0;\n",
      "\n"
     ]
    }
   ],
   "source": [
    "tree_file = open('../output/phylogeny/raxml_output/raxml_rename.bestTree', \"r\") # open treefile\n",
    "tree = tree_file.read() #read whole file to a string\n",
    "tree_file.close() #close file\n",
    "print(tree)"
   ]
  },
  {
   "cell_type": "code",
   "execution_count": 28,
   "metadata": {},
   "outputs": [],
   "source": [
    "# replace names\n",
    "for sample in range(len(SampleID)): #for each sample in the ID table\n",
    "    tree = tree.replace(SampleID.iloc[sample,1], SampleID.iloc[sample,0]) #replace SRA with Sample ID\n",
    "print(tree)"
   ]
  },
  {
   "cell_type": "markdown",
   "metadata": {},
   "source": [
    "Final treefile was visualized online (https://itol.embl.de/upload.cgi), exported in pdf and newick text formats."
   ]
  }
 ],
 "metadata": {
  "kernelspec": {
   "display_name": "Python 3",
   "language": "python",
   "name": "python3"
  },
  "language_info": {
   "codemirror_mode": {
    "name": "ipython",
    "version": 3
   },
   "file_extension": ".py",
   "mimetype": "text/x-python",
   "name": "python",
   "nbconvert_exporter": "python",
   "pygments_lexer": "ipython3",
   "version": "3.6.12"
  }
 },
 "nbformat": 4,
 "nbformat_minor": 4
}
