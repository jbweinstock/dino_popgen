{
 "cells": [
  {
   "cell_type": "markdown",
   "metadata": {},
   "source": [
    "# Data Download"
   ]
  },
  {
   "cell_type": "markdown",
   "metadata": {},
   "source": [
    "## Data from Reich et al. 2020 was downloaded from NCBI "
   ]
  },
  {
   "cell_type": "markdown",
   "metadata": {},
   "source": [
    "SRA Project PRJNA473816: https://www.ncbi.nlm.nih.gov/bioproject/PRJNA473816/\n",
    "\n",
    "Only samples where colonization status of <i>Symbiodinium</i> was listed as \"single\" were selected for download, this was to prevent complications in data interpretation resulting from co-colonization in downstream analysis. These samples were identified by the \"Colonization Status\" field in the first supplemental table (S1)."
   ]
  },
  {
   "cell_type": "code",
   "execution_count": 2,
   "metadata": {},
   "outputs": [],
   "source": [
    "# cleaning scripts > seq_access_numts.txt \n",
    "# file containing the accession filenames for subset of samples to download"
   ]
  },
  {
   "cell_type": "code",
   "execution_count": 3,
   "metadata": {},
   "outputs": [],
   "source": [
    "# cleaning_scripts > load_seqs.txt \n",
    "# file with download loop that was sent to the cluster\n",
    "# should we copy the script into the notebook?"
   ]
  },
  {
   "cell_type": "markdown",
   "metadata": {},
   "source": [
    "cleaning_scripts timed out on large sequence SRR7235983.fastq, 140 GB, total reads > 1.5 billion"
   ]
  },
  {
   "cell_type": "code",
   "execution_count": null,
   "metadata": {},
   "outputs": [],
   "source": []
  }
 ],
 "metadata": {
  "kernelspec": {
   "display_name": "Python 3",
   "language": "python",
   "name": "python3"
  },
  "language_info": {
   "codemirror_mode": {
    "name": "ipython",
    "version": 3
   },
   "file_extension": ".py",
   "mimetype": "text/x-python",
   "name": "python",
   "nbconvert_exporter": "python",
   "pygments_lexer": "ipython3",
   "version": "3.6.12"
  }
 },
 "nbformat": 4,
 "nbformat_minor": 4
}
